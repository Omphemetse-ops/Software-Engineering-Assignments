{
 "cells": [
  {
   "cell_type": "code",
   "execution_count": null,
   "id": "0b19d638",
   "metadata": {},
   "outputs": [],
   "source": [
    "import pymongo\n",
    "import pandas as pd\n",
    "from sklearn.model_selection import train_test_split\n",
    "from sklearn.ensemble import RandomForestClassifier\n",
    "from sklearn.metrics import accuracy_score, classification_report, confusion_matrix\n"
   ]
  },
  {
   "cell_type": "code",
   "execution_count": null,
   "id": "7b964055",
   "metadata": {},
   "outputs": [],
   "source": [
    "#Connect mongoDB\n",
    "connection_string = \"XXXXXXXXXX\"\n",
    "client = pymongo.MongoClient(connection_string)"
   ]
  },
  {
   "cell_type": "code",
   "execution_count": null,
   "id": "129c6ee1",
   "metadata": {},
   "outputs": [],
   "source": [
    "db = client['test']\n",
    "collection = db['UserInfor']"
   ]
  },
  {
   "cell_type": "code",
   "execution_count": null,
   "id": "958f84d3",
   "metadata": {},
   "outputs": [],
   "source": [
    "# Fetch data from MongoDB\n",
    "data = pd.DataFrame(list(collection.find()))\n",
    "data"
   ]
  },
  {
   "cell_type": "code",
   "execution_count": null,
   "id": "97157ef0",
   "metadata": {},
   "outputs": [],
   "source": [
    "# Drop any columns that are not needed\n",
    "data = data.drop(columns=['_id'])\n",
    "data = data.drop(columns=['password'])\n",
    "data = data.drop(columns=['__v'])\n",
    "data = data.drop(columns=['loginTimes'])\n",
    "data = data.drop(columns=['firstName', 'lastName', 'email', 'idNumber', 'cellPhoneNumber'])\n",
    "data"
   ]
  },
  {
   "cell_type": "code",
   "execution_count": null,
   "id": "6624a183",
   "metadata": {},
   "outputs": [],
   "source": [
    "# Fill missing values in 'gender' with 'Other'\n",
    "data['gender'] = data['gender'].fillna('Other')"
   ]
  },
  {
   "cell_type": "code",
   "execution_count": null,
   "id": "2610d68f",
   "metadata": {},
   "outputs": [],
   "source": [
    "# Encode 'gender' column\n",
    "data = pd.get_dummies(data, columns=['gender'], drop_first=True)"
   ]
  },
  {
   "cell_type": "code",
   "execution_count": null,
   "id": "8887a150",
   "metadata": {},
   "outputs": [],
   "source": [
    "# Encode 'userType' column as the target variable\n",
    "data['userType'] = data['userType'].map({'Driver': 1, 'Customer': 0})"
   ]
  },
  {
   "cell_type": "code",
   "execution_count": null,
   "id": "7ef14351",
   "metadata": {},
   "outputs": [],
   "source": [
    "data"
   ]
  },
  {
   "cell_type": "code",
   "execution_count": null,
   "id": "a228eb04",
   "metadata": {},
   "outputs": [],
   "source": [
    "# Define features and target variable\n",
    "X = data.drop(columns=['userType'])\n",
    "y = data['userType']"
   ]
  },
  {
   "cell_type": "code",
   "execution_count": null,
   "id": "ece97a06",
   "metadata": {},
   "outputs": [],
   "source": [
    "# Split data into training and testing sets\n",
    "X_train, X_test, y_train, y_test = train_test_split(X, y, test_size=0.2, random_state=42)"
   ]
  },
  {
   "cell_type": "code",
   "execution_count": null,
   "id": "7c3d03ef",
   "metadata": {},
   "outputs": [],
   "source": [
    "clf = RandomForestClassifier(n_estimators=100, random_state=42)\n",
    "clf.fit(X_train, y_train)"
   ]
  },
  {
   "cell_type": "code",
   "execution_count": null,
   "id": "494856ce",
   "metadata": {},
   "outputs": [],
   "source": [
    "# Make predictions and evaluate\n",
    "y_pred = clf.predict(X_test)\n",
    "accuracy = accuracy_score(y_test, y_pred)\n",
    "print(f'Accuracy: {accuracy:.2f}')"
   ]
  },
  {
   "cell_type": "code",
   "execution_count": null,
   "id": "8d809773",
   "metadata": {},
   "outputs": [],
   "source": [
    "# Generate and print the classification report\n",
    "print(classification_report(y_test, y_pred))"
   ]
  },
  {
   "cell_type": "code",
   "execution_count": null,
   "id": "84f9357e",
   "metadata": {},
   "outputs": [],
   "source": [
    "# Generate and print the confusion matrix\n",
    "print(confusion_matrix(y_test, y_pred))"
   ]
  }
 ],
 "metadata": {
  "kernelspec": {
   "display_name": "Python 3 (ipykernel)",
   "language": "python",
   "name": "python3"
  },
  "language_info": {
   "codemirror_mode": {
    "name": "ipython",
    "version": 3
   },
   "file_extension": ".py",
   "mimetype": "text/x-python",
   "name": "python",
   "nbconvert_exporter": "python",
   "pygments_lexer": "ipython3",
   "version": "3.11.5"
  }
 },
 "nbformat": 4,
 "nbformat_minor": 5
}
